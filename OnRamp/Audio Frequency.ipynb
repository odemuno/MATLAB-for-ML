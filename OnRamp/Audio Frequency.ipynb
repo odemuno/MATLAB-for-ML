{
 "cells": [
  {
   "cell_type": "code",
   "execution_count": null,
   "metadata": {},
   "outputs": [],
   "source": [
    "# Audio Frequency"
   ]
  },
  {
   "cell_type": "code",
   "execution_count": null,
   "metadata": {},
   "outputs": [],
   "source": [
    "# The C chord recording is stored in a file named Cchord.mat. This file contains two variables:\n",
    "# y: signal from recording\n",
    "# fs: sampling frequency\n",
    "\n",
    "load Cchord.mat\n",
    "y_size = size(y)\n",
    "n = y_size(end)\n",
    "t = [0: n-1]"
   ]
  },
  {
   "cell_type": "code",
   "execution_count": null,
   "metadata": {},
   "outputs": [],
   "source": [
    "# Use sampling frequency to convert vector to time\n",
    "t = t/fs\n",
    "plot(t, y) # resulting image \"periodic.png\" can be located in the OnRamp folder\n",
    "\n"
   ]
  }
 ],
 "metadata": {
  "language_info": {
   "codemirror_mode": {
    "name": "ipython",
    "version": 3
   },
   "file_extension": ".py",
   "mimetype": "text/x-python",
   "name": "python",
   "nbconvert_exporter": "python",
   "pygments_lexer": "ipython3",
   "version": 3
  },
  "orig_nbformat": 2
 },
 "nbformat": 4,
 "nbformat_minor": 2
}